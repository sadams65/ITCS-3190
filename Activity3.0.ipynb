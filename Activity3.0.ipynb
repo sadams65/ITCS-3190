{
 "cells": [
  {
   "cell_type": "markdown",
   "metadata": {},
   "source": [
    "# Configuring pandas"
   ]
  },
  {
   "cell_type": "markdown",
   "metadata": {},
   "source": [
    "### Documentation - https://pandas.pydata.org/docs/reference/index.html"
   ]
  },
  {
   "cell_type": "code",
   "execution_count": 212,
   "metadata": {},
   "outputs": [],
   "source": [
    "# import numpy and pandas\n",
    "import numpy as np\n",
    "import pandas as pd\n",
    "\n",
    "# used for dates\n",
    "import datetime\n",
    "from datetime import datetime, date\n",
    "\n",
    "# Set some pandas options controlling output format\n",
    "pd.set_option('display.notebook_repr_html', False)\n",
    "pd.set_option('display.max_columns', 8)\n",
    "pd.set_option('display.max_rows', 10)\n",
    "pd.set_option('display.width', 80)\n",
    "    \n",
    "# bring in matplotlib for graphics\n",
    "import matplotlib.pyplot as plt\n",
    "%matplotlib inline"
   ]
  },
  {
   "cell_type": "markdown",
   "metadata": {},
   "source": [
    "# The pandas Series\n",
    "#### A Pandas Series is like a column in a table. It is a one-dimensional array holding data of any type. Read the documentation and create a series that contains 4 items. After that finish the following given cells."
   ]
  },
  {
   "cell_type": "code",
   "execution_count": 213,
   "metadata": {},
   "outputs": [
    {
     "data": {
      "text/plain": [
       "0    1\n",
       "1    2\n",
       "2    3\n",
       "3    4\n",
       "dtype: int64"
      ]
     },
     "execution_count": 213,
     "metadata": {},
     "output_type": "execute_result"
    }
   ],
   "source": [
    "# create a four item Series\n",
    "new1 = pd.Series([1, 2, 3, 4])\n",
    "new1"
   ]
  },
  {
   "cell_type": "code",
   "execution_count": 214,
   "metadata": {},
   "outputs": [
    {
     "data": {
      "text/plain": [
       "2"
      ]
     },
     "execution_count": 214,
     "metadata": {},
     "output_type": "execute_result"
    }
   ],
   "source": [
    "# get value at label 1\n",
    "new1[1]"
   ]
  },
  {
   "cell_type": "code",
   "execution_count": 215,
   "metadata": {},
   "outputs": [
    {
     "data": {
      "text/plain": [
       "1    2\n",
       "3    4\n",
       "dtype: int64"
      ]
     },
     "execution_count": 215,
     "metadata": {},
     "output_type": "execute_result"
    }
   ],
   "source": [
    "# Write a snippet of code that will return a Series with the row with labels 1 and 3\n",
    "new1[[1,3]]"
   ]
  },
  {
   "cell_type": "code",
   "execution_count": 216,
   "metadata": {},
   "outputs": [],
   "source": [
    "# create the same series but this time using an explicit index\n",
    "new2 = new1 = pd.Series([1, 2, 3, 4])\n"
   ]
  },
  {
   "cell_type": "code",
   "execution_count": 217,
   "metadata": {},
   "outputs": [
    {
     "data": {
      "text/plain": [
       "0    1\n",
       "1    2\n",
       "2    3\n",
       "3    4\n",
       "dtype: int64"
      ]
     },
     "execution_count": 217,
     "metadata": {},
     "output_type": "execute_result"
    }
   ],
   "source": [
    "# look up items the series having index at first and index at last position\n",
    "new2[0:3]\n",
    "new2"
   ]
  },
  {
   "cell_type": "code",
   "execution_count": 218,
   "metadata": {},
   "outputs": [
    {
     "data": {
      "text/plain": [
       "RangeIndex(start=0, stop=4, step=1)"
      ]
     },
     "execution_count": 218,
     "metadata": {},
     "output_type": "execute_result"
    }
   ],
   "source": [
    "# get only the index of the Series\n",
    "new2.index"
   ]
  },
  {
   "cell_type": "code",
   "execution_count": 219,
   "metadata": {},
   "outputs": [
    {
     "data": {
      "text/plain": [
       "DatetimeIndex(['2022-09-05', '2022-09-06', '2022-09-07', '2022-09-08',\n",
       "               '2022-09-09', '2022-09-10', '2022-09-11', '2022-09-12'],\n",
       "              dtype='datetime64[ns]', freq='D')"
      ]
     },
     "execution_count": 219,
     "metadata": {},
     "output_type": "execute_result"
    }
   ],
   "source": [
    "# create a Series who's index is a series of dates\n",
    "# https://pandas.pydata.org/docs/reference/api/pandas.date_range.html\n",
    "# between the two specified dates (inclusive)\n",
    "# Dates: September 5, 2022 to September 11, 2022\n",
    "new3 = pd.date_range('09/05/2022', '09/12/2022')\n",
    "new3"
   ]
  },
  {
   "cell_type": "code",
   "execution_count": 220,
   "metadata": {},
   "outputs": [
    {
     "data": {
      "text/plain": [
       "2022-09-05     80\n",
       "2022-09-06     82\n",
       "2022-09-07     85\n",
       "2022-09-08     90\n",
       "2022-09-09     83\n",
       "2022-09-10     87\n",
       "2022-09-11     80\n",
       "2022-09-12    100\n",
       "Freq: D, dtype: int64"
      ]
     },
     "execution_count": 220,
     "metadata": {},
     "output_type": "execute_result"
    }
   ],
   "source": [
    "# create a Series with values (representing temperatures) for each date in the index\n",
    "# You can give them hardcoded values for now [80, 82, 85, 90, 83, 87, 80, 78]\n",
    "# You can call this series clt_temp\n",
    "clt_temp =pd.Series([80, 82, 85, 90, 83, 87, 80, 100], index = new3)\n",
    "clt_temp"
   ]
  },
  {
   "cell_type": "code",
   "execution_count": 221,
   "metadata": {},
   "outputs": [
    {
     "data": {
      "text/plain": [
       "83"
      ]
     },
     "execution_count": 221,
     "metadata": {},
     "output_type": "execute_result"
    }
   ],
   "source": [
    "# what's the temperation for September 9?\n",
    "clt_temp[4]"
   ]
  },
  {
   "cell_type": "code",
   "execution_count": 222,
   "metadata": {},
   "outputs": [
    {
     "data": {
      "text/plain": [
       "2022-09-05     70\n",
       "2022-09-06     75\n",
       "2022-09-07     69\n",
       "2022-09-08     83\n",
       "2022-09-09     79\n",
       "2022-09-10     77\n",
       "2022-09-11     74\n",
       "2022-09-12    100\n",
       "Freq: D, dtype: int64"
      ]
     },
     "execution_count": 222,
     "metadata": {},
     "output_type": "execute_result"
    }
   ],
   "source": [
    "# create a second series of values using the same index\n",
    "# You can give them hardcoded values for now [70, 75, 69, 83, 79, 77, 74, 79]\n",
    "# You can call this series nycTemp\n",
    "nyc_Temp = pd.Series([70, 75, 69, 83, 79, 77, 74, 100], index = new3)\n",
    "nyc_Temp"
   ]
  },
  {
   "cell_type": "code",
   "execution_count": 223,
   "metadata": {},
   "outputs": [
    {
     "data": {
      "text/plain": [
       "2022-09-05    10\n",
       "2022-09-06     7\n",
       "2022-09-07    16\n",
       "2022-09-08     7\n",
       "2022-09-09     4\n",
       "2022-09-10    10\n",
       "2022-09-11     6\n",
       "2022-09-12     0\n",
       "Freq: D, dtype: int64"
      ]
     },
     "execution_count": 223,
     "metadata": {},
     "output_type": "execute_result"
    }
   ],
   "source": [
    "# the series clt_temp and nyc_temp are aligned by their index values\n",
    "# calculates the difference by those matching labels\n",
    "difference = clt_temp - nyc_Temp\n",
    "difference"
   ]
  },
  {
   "cell_type": "code",
   "execution_count": 224,
   "metadata": {},
   "outputs": [
    {
     "data": {
      "text/plain": [
       "7"
      ]
     },
     "execution_count": 224,
     "metadata": {},
     "output_type": "execute_result"
    }
   ],
   "source": [
    "# Write the code to find the temperature difference on September 8?\n",
    "difference[3]"
   ]
  },
  {
   "cell_type": "code",
   "execution_count": 225,
   "metadata": {},
   "outputs": [
    {
     "data": {
      "text/plain": [
       "7.5"
      ]
     },
     "execution_count": 225,
     "metadata": {},
     "output_type": "execute_result"
    }
   ],
   "source": [
    "# Write code to find an average difference of temperature between the 2 cities?\n",
    "difference.mean()"
   ]
  },
  {
   "cell_type": "markdown",
   "metadata": {
    "collapsed": true
   },
   "source": [
    "# The pandas DataFrame"
   ]
  },
  {
   "cell_type": "code",
   "execution_count": 226,
   "metadata": {},
   "outputs": [
    {
     "data": {
      "text/plain": [
       "            Charlotte  NYC\n",
       "2022-09-05         80   70\n",
       "2022-09-06         82   75\n",
       "2022-09-07         85   69\n",
       "2022-09-08         90   83\n",
       "2022-09-09         83   79\n",
       "2022-09-10         87   77\n",
       "2022-09-11         80   74\n",
       "2022-09-12        100  100"
      ]
     },
     "execution_count": 226,
     "metadata": {},
     "output_type": "execute_result"
    }
   ],
   "source": [
    "# create a DataFrame from the two series objects clt_temp and nyc_temp\n",
    "# and give them column names\n",
    "temps_df = pd.DataFrame(\n",
    "             {'Charlotte': clt_temp, \n",
    "              'NYC': nyc_Temp})\n",
    "temps_df"
   ]
  },
  {
   "cell_type": "code",
   "execution_count": 227,
   "metadata": {},
   "outputs": [
    {
     "data": {
      "text/plain": [
       "2022-09-05     80\n",
       "2022-09-06     82\n",
       "2022-09-07     85\n",
       "2022-09-08     90\n",
       "2022-09-09     83\n",
       "2022-09-10     87\n",
       "2022-09-11     80\n",
       "2022-09-12    100\n",
       "Freq: D, Name: Charlotte, dtype: int64"
      ]
     },
     "execution_count": 227,
     "metadata": {},
     "output_type": "execute_result"
    }
   ],
   "source": [
    "# get the column with the name Charlotte\n",
    "temps_df['Charlotte']"
   ]
  },
  {
   "cell_type": "code",
   "execution_count": 228,
   "metadata": {},
   "outputs": [
    {
     "data": {
      "text/plain": [
       "2022-09-05     70\n",
       "2022-09-06     75\n",
       "2022-09-07     69\n",
       "2022-09-08     83\n",
       "2022-09-09     79\n",
       "2022-09-10     77\n",
       "2022-09-11     74\n",
       "2022-09-12    100\n",
       "Freq: D, Name: NYC, dtype: int64"
      ]
     },
     "execution_count": 228,
     "metadata": {},
     "output_type": "execute_result"
    }
   ],
   "source": [
    "# likewise we can get just the NYC column\n",
    "temps_df['NYC']"
   ]
  },
  {
   "cell_type": "code",
   "execution_count": 229,
   "metadata": {},
   "outputs": [],
   "source": [
    "# return both columns in a different order"
   ]
  },
  {
   "cell_type": "code",
   "execution_count": 230,
   "metadata": {},
   "outputs": [
    {
     "data": {
      "text/plain": [
       "            Charlotte  NYC\n",
       "2022-09-05         80   70\n",
       "2022-09-06         82   75\n",
       "2022-09-07         85   69\n",
       "2022-09-08         90   83\n",
       "2022-09-09         83   79\n",
       "2022-09-10         87   77\n",
       "2022-09-11         80   74\n",
       "2022-09-12        100  100"
      ]
     },
     "execution_count": 230,
     "metadata": {},
     "output_type": "execute_result"
    }
   ],
   "source": [
    "# retrieve the Charlotte column through PROPERTY SYNTAX\n",
    "temps_df"
   ]
  },
  {
   "cell_type": "code",
   "execution_count": 231,
   "metadata": {},
   "outputs": [
    {
     "data": {
      "text/plain": [
       "2022-09-05    10\n",
       "2022-09-06     7\n",
       "2022-09-07    16\n",
       "2022-09-08     7\n",
       "2022-09-09     4\n",
       "2022-09-10    10\n",
       "2022-09-11     6\n",
       "2022-09-12     0\n",
       "Freq: D, dtype: int64"
      ]
     },
     "execution_count": 231,
     "metadata": {},
     "output_type": "execute_result"
    }
   ],
   "source": [
    "# calculate the temperature difference between the two cities using the dataframe\n",
    "temps_df.Charlotte - temps_df.NYC "
   ]
  },
  {
   "cell_type": "code",
   "execution_count": 232,
   "metadata": {},
   "outputs": [
    {
     "data": {
      "text/plain": [
       "            Charlotte  NYC  difference\n",
       "2022-09-05         80   70          10\n",
       "2022-09-06         82   75           7\n",
       "2022-09-07         85   69          16\n",
       "2022-09-08         90   83           7\n",
       "2022-09-09         83   79           4\n",
       "2022-09-10         87   77          10\n",
       "2022-09-11         80   74           6\n",
       "2022-09-12        100  100           0"
      ]
     },
     "execution_count": 232,
     "metadata": {},
     "output_type": "execute_result"
    }
   ],
   "source": [
    "# add a column to temp_df which contains the difference in temps you can call the column Difference\n",
    "temps_df['difference'] = temps_df['Charlotte'] - temps_df.NYC \n",
    "temps_df"
   ]
  },
  {
   "cell_type": "code",
   "execution_count": 233,
   "metadata": {},
   "outputs": [
    {
     "data": {
      "text/plain": [
       "Index(['Charlotte', 'NYC', 'difference'], dtype='object')"
      ]
     },
     "execution_count": 233,
     "metadata": {},
     "output_type": "execute_result"
    }
   ],
   "source": [
    "# get the columns of the dataframe, which is also an Index object\n",
    "temps_df.columns"
   ]
  },
  {
   "cell_type": "code",
   "execution_count": 234,
   "metadata": {},
   "outputs": [
    {
     "data": {
      "text/plain": [
       "2022-09-06     7\n",
       "2022-09-07    16\n",
       "2022-09-08     7\n",
       "2022-09-09     4\n",
       "Freq: D, Name: difference, dtype: int64"
      ]
     },
     "execution_count": 234,
     "metadata": {},
     "output_type": "execute_result"
    }
   ],
   "source": [
    "# slice the temp differences column for the rows at \n",
    "# location 1 through 4 (as though it is an array)\n",
    "temps_df['difference'][1:5]"
   ]
  },
  {
   "cell_type": "code",
   "execution_count": 235,
   "metadata": {},
   "outputs": [
    {
     "data": {
      "text/plain": [
       "Charlotte     82\n",
       "NYC           75\n",
       "difference     7\n",
       "Name: 2022-09-06 00:00:00, dtype: int64"
      ]
     },
     "execution_count": 235,
     "metadata": {},
     "output_type": "execute_result"
    }
   ],
   "source": [
    "# get the row at array position 1\n",
    "temps_df.iloc[1] # you pass in a number where as loc is a specific set number"
   ]
  },
  {
   "cell_type": "code",
   "execution_count": null,
   "metadata": {},
   "outputs": [],
   "source": []
  },
  {
   "cell_type": "code",
   "execution_count": 236,
   "metadata": {},
   "outputs": [
    {
     "data": {
      "text/plain": [
       "            Charlotte  NYC  difference\n",
       "2022-09-07         85   69          16"
      ]
     },
     "execution_count": 236,
     "metadata": {},
     "output_type": "execute_result"
    }
   ],
   "source": [
    "# the names of the columns have become the index\n",
    "# they have been 'pivoted'\n",
    "# retrieve a random row of your choice by index label using .loc\n",
    "temps_df.loc[['2022-09-07']]"
   ]
  },
  {
   "cell_type": "code",
   "execution_count": 237,
   "metadata": {},
   "outputs": [
    {
     "data": {
      "text/plain": [
       "2022-09-06     7\n",
       "2022-09-08     7\n",
       "2022-09-10    10\n",
       "Freq: 2D, Name: difference, dtype: int64"
      ]
     },
     "execution_count": 237,
     "metadata": {},
     "output_type": "execute_result"
    }
   ],
   "source": [
    "# get the values in the Differences column in tows 1, 3 and 5\n",
    "# using 0-based location\n",
    "temps_df.iloc[[1,3,5]]['difference']"
   ]
  },
  {
   "cell_type": "code",
   "execution_count": 238,
   "metadata": {},
   "outputs": [
    {
     "data": {
      "text/plain": [
       "2022-09-05    False\n",
       "2022-09-06    False\n",
       "2022-09-07     True\n",
       "2022-09-08     True\n",
       "2022-09-09     True\n",
       "2022-09-10     True\n",
       "2022-09-11    False\n",
       "2022-09-12     True\n",
       "Freq: D, Name: Charlotte, dtype: bool"
      ]
     },
     "execution_count": 238,
     "metadata": {},
     "output_type": "execute_result"
    }
   ],
   "source": [
    "# which values in the Missoula column are > 82?\n",
    "temps_df.Charlotte > 82"
   ]
  },
  {
   "cell_type": "code",
   "execution_count": 239,
   "metadata": {},
   "outputs": [
    {
     "data": {
      "text/plain": [
       "Charlotte     6.664136\n",
       "NYC           9.855202\n",
       "difference    4.720775\n",
       "Name: std, dtype: float64"
      ]
     },
     "execution_count": 239,
     "metadata": {},
     "output_type": "execute_result"
    }
   ],
   "source": [
    "# return the rows where the temps for Missoula > 82\n",
    "temps_df[temps_df.Charlotte > 82]\n",
    "temps_df.describe().loc['std']"
   ]
  },
  {
   "cell_type": "markdown",
   "metadata": {},
   "source": [
    "# Loading data from a CSV file into a DataFrame"
   ]
  },
  {
   "cell_type": "code",
   "execution_count": 240,
   "metadata": {},
   "outputs": [],
   "source": [
    "# read the contents of the file activity3_0.csv into a DataFrame. Call the dataframe df"
   ]
  },
  {
   "cell_type": "code",
   "execution_count": 241,
   "metadata": {},
   "outputs": [],
   "source": [
    "# Print the contents of the date column"
   ]
  },
  {
   "cell_type": "code",
   "execution_count": 242,
   "metadata": {},
   "outputs": [],
   "source": [
    "# Get the first value in the date column"
   ]
  },
  {
   "cell_type": "code",
   "execution_count": 243,
   "metadata": {},
   "outputs": [],
   "source": [
    "# Write the code to get the type of the Date"
   ]
  },
  {
   "cell_type": "code",
   "execution_count": 244,
   "metadata": {},
   "outputs": [],
   "source": [
    "# read the data and tell pandas the date column should be a date in the resulting DataFrame\n",
    "# https://pandas.pydata.org/docs/reference/api/pandas.read_csv.html"
   ]
  },
  {
   "cell_type": "code",
   "execution_count": 245,
   "metadata": {},
   "outputs": [],
   "source": [
    "# verify the type now is date\n",
    "# in pandas, this is actually a Timestamp"
   ]
  },
  {
   "cell_type": "code",
   "execution_count": 246,
   "metadata": {},
   "outputs": [],
   "source": [
    "# unfortunately the index is numeric which makes accessing data by date more complicated\n",
    "# read in again, now specity the data column as being the index of the resulting DataFrame"
   ]
  },
  {
   "cell_type": "code",
   "execution_count": 247,
   "metadata": {},
   "outputs": [],
   "source": [
    "# Verify that the index is now a DatetimeIndex by calling df.index"
   ]
  },
  {
   "cell_type": "markdown",
   "metadata": {},
   "source": [
    "# Visualization"
   ]
  },
  {
   "cell_type": "code",
   "execution_count": 248,
   "metadata": {},
   "outputs": [],
   "source": [
    "# plots the values in the Close column\n",
    "# https://pandas.pydata.org/docs/reference/api/pandas.DataFrame.plot.html"
   ]
  },
  {
   "cell_type": "markdown",
   "metadata": {},
   "source": [
    "# Thats it for today :D Good job!!!!\n",
    "\n",
    "#### Submit this notebook on canvas and you will be graded for correctness. Make sure that you are not cutting corners or shortcuts "
   ]
  }
 ],
 "metadata": {
  "anaconda-cloud": {},
  "kernelspec": {
   "display_name": "Python 3.9.12 ('base')",
   "language": "python",
   "name": "python3"
  },
  "language_info": {
   "codemirror_mode": {
    "name": "ipython",
    "version": 3
   },
   "file_extension": ".py",
   "mimetype": "text/x-python",
   "name": "python",
   "nbconvert_exporter": "python",
   "pygments_lexer": "ipython3",
   "version": "3.9.12"
  },
  "vscode": {
   "interpreter": {
    "hash": "1c276f90d3de26003277023c37abe5ba0f91b858db9029646ce82d6607c1f3ee"
   }
  }
 },
 "nbformat": 4,
 "nbformat_minor": 1
}
